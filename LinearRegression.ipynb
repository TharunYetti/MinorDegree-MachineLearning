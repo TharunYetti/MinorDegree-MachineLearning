{
 "cells": [
  {
   "cell_type": "markdown",
   "id": "896be77e-bc16-4e7f-be77-3b70fd49729f",
   "metadata": {},
   "source": [
    "### Linear Regression Model - With Equation"
   ]
  },
  {
   "cell_type": "code",
   "execution_count": 17,
   "id": "284c77ba-015f-4213-af4d-3a7c3e214876",
   "metadata": {},
   "outputs": [
    {
     "name": "stdout",
     "output_type": "stream",
     "text": [
      "After adding bias, X is:\n",
      "[[1. 1. 2.]\n",
      " [1. 2. 3.]\n",
      " [1. 3. 4.]\n",
      " [1. 4. 5.]]\n",
      "Weights are (intercept,slope) :  [-1.84297022e-14  1.00000000e+00  1.00000000e+00]\n",
      "Predictions: [3. 5. 7. 9.]\n"
     ]
    }
   ],
   "source": [
    "# Equation => w = (X^T X)^-1 X^T y\n",
    "\n",
    "import numpy as np\n",
    "class LinearRegression:\n",
    "    def __init__(self):\n",
    "        self.w = None\n",
    "\n",
    "    def fit(self, X, y):\n",
    "        X = np.array(X)\n",
    "        y = np.array(y).reshape((-1, 1))\n",
    "        \n",
    "        X2 = np.hstack([np.ones((X.shape[0], 1)), X])\n",
    "        print(\"After adding bias, X is:\")\n",
    "        print(X2)\n",
    "        \n",
    "        # For Σ(x_i x_i^T)\n",
    "        sum_matrix = np.zeros((X2.shape[1], X2.shape[1]))  \n",
    "        for x in X2:\n",
    "            # print(\"\\n\",np.outer(x,x))\n",
    "            sum_matrix += np.outer(x, x)  \n",
    "        \n",
    "        # For X^T X\n",
    "        XTX = sum_matrix\n",
    "        XTX_inverse = np.linalg.pinv(XTX)\n",
    "\n",
    "        # For Σ(y_i x_i) = X^T y\n",
    "        XTy = X2.T.dot(y)\n",
    "\n",
    "        # Calculating the weights (intercept and slope)\n",
    "        self.w = XTX_inverse.dot(XTy)\n",
    "        print(\"Weights are (intercept,slope) : \", self.w.flatten())\n",
    "\n",
    "    def predict(self, X):\n",
    "\n",
    "        X = np.array(X)\n",
    "        X_ = np.hstack([np.ones((X.shape[0], 1)), X]) \n",
    "        return X_.dot(self.w)  \n",
    "\n",
    "\n",
    "X = np.array([[1,2], [2,3], [3,4], [4,5]]) \n",
    "y = np.array([3, 5, 7, 9])          \n",
    "\n",
    "myLR = LinearRegression()\n",
    "weights = myLR.fit(X, y)\n",
    "\n",
    "predictions = myLR.predict(X)\n",
    "print(\"Predictions:\", predictions.flatten())"
   ]
  },
  {
   "cell_type": "code",
   "execution_count": null,
   "id": "a488b363-3839-4e70-a25e-ad26123e0c69",
   "metadata": {},
   "outputs": [],
   "source": []
  }
 ],
 "metadata": {
  "kernelspec": {
   "display_name": "Python 3 (ipykernel)",
   "language": "python",
   "name": "python3"
  },
  "language_info": {
   "codemirror_mode": {
    "name": "ipython",
    "version": 3
   },
   "file_extension": ".py",
   "mimetype": "text/x-python",
   "name": "python",
   "nbconvert_exporter": "python",
   "pygments_lexer": "ipython3",
   "version": "3.10.12"
  }
 },
 "nbformat": 4,
 "nbformat_minor": 5
}
